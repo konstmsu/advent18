{
 "cells": [
  {
   "cell_type": "code",
   "execution_count": 47,
   "metadata": {},
   "outputs": [
    {
     "data": {
      "text/plain": [
       "\"UfHhDmlLMhHdzZFzZuUuUuwWFnjJHhNTtaAfNeEMmOoAanavVsTtUuSnNyYAulLGggGTDXxdtzIo..\r\n"
      ]
     },
     "execution_count": 47,
     "metadata": {},
     "output_type": "execute_result"
    },
    {
     "data": {
      "text/plain": [
       "105691 1836640\r\n"
      ]
     },
     "execution_count": 47,
     "metadata": {},
     "output_type": "execute_result"
    }
   ],
   "source": [
    "i:raze read0 `:../_input/d05.txt\n",
    "i\n",
    "an: {&[(upper x)=upper y;not x=y]}\n",
    "\\ts count {x til[count x] except raze -1 0+/:where ({x&not y}':) (an':) x}/[i]"
   ]
  }
 ],
 "metadata": {
  "kernelspec": {
   "display_name": "Q (kdb+)",
   "language": "q",
   "name": "qpk"
  },
  "language_info": {
   "file_extension": ".q",
   "mimetype": "text/x-q",
   "name": "q",
   "version": "3.6.0"
  }
 },
 "nbformat": 4,
 "nbformat_minor": 2
}
