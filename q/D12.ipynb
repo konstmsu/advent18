{
 "cells": [
  {
   "cell_type": "code",
   "execution_count": 1,
   "metadata": {},
   "outputs": [
    {
     "data": {
      "text/plain": [
       "{[s;r] startsWith[r 0;_[;s]]}[;;000100101001100000011100011100000000000b]'[,(..\n"
      ]
     },
     "execution_count": 1,
     "metadata": {},
     "output_type": "execute_result"
    }
   ],
   "source": [
    "i:read0 `:../_input/d12.txt\n",
    "initialState: \"#\"=15 _ i[0]\n",
    "rules: @[;2 _ i] parseRules:{\"#\"=\" => \" vs/: x}\n",
    "carvePlants: {[offset;state]\n",
    "    h:where state;\n",
    "    pre:4#0b;\n",
    "    plants:(1+last[h]-h 0)#h[0]_state;\n",
    "    (offset+count[pre]-h 0),enlist pre,plants,pre}\n",
    "\n",
    "/(3,enlist 00001010000b)~carvePlants[0] 01010b\n",
    "\n",
    "swm:{(til x)+/:til y}\n",
    "sw:{y swm[x] 1+count[y]-x}\n",
    "\n",
    "sampleRules: parseRules[\"\\n \" vs \"...## => #\n",
    " ..#.. => #\n",
    " .#... => #\n",
    " .#.#. => #\n",
    " .#.## => #\n",
    " .##.. => #\n",
    " .#### => #\n",
    " #.#.# => #\n",
    " #.### => #\n",
    " ##.#. => #\n",
    " ##.## => #\n",
    " ###.. => #\n",
    " ###.# => #\n",
    " ####. => #\"]\n",
    "\n",
    "startsWith: {[prefix;val] all prefix=(count prefix)#val}\n",
    "applyRules: {[rules;state]\n",
    "    {[s;r] startsWith[r 0;_[;s]]}[;;state] each rules}\n",
    "\n",
    "applyRules[1#sampleRules] \"#\"=\"...#..#.#..##......###...###...........\"\n",
    "\n",
    "/\"...#...#....#.....#..#..#..#...........\"=0N!applyRules[sampleRules] \"...#..#.#..##......###...###...........\"\n",
    "\n",
    "/\n",
    "\n",
    "{[offset;state]\n",
    "    carved:carvePlants[offset] state;\n",
    "    o:carved 0;\n",
    "    s:carved 1;\n",
    "    o,enlist s}[0] initialState"
   ]
  },
  {
   "cell_type": "code",
   "execution_count": 219,
   "metadata": {},
   "outputs": [
    {
     "data": {
      "text/plain": [
       "\".#...#...#.\"\n"
      ]
     },
     "execution_count": 219,
     "metadata": {},
     "output_type": "execute_result"
    }
   ],
   "source": [
    "mss:{[s;p] where p~/:s(til count p)+/:til 1+count[s]-count p}\n",
    "{[s;p] n:count[s]#\".\";m:mss[s] p;n[m+count[p] div 2]:\"#\";n}[\"#...#...#..\"] each (enlist \"#..\")"
   ]
  },
  {
   "cell_type": "code",
   "execution_count": 217,
   "metadata": {},
   "outputs": [
    {
     "data": {
      "text/plain": [
       "2\n"
      ]
     },
     "execution_count": 217,
     "metadata": {},
     "output_type": "execute_result"
    }
   ],
   "source": [
    "count[\"hello\"]div 2"
   ]
  },
  {
   "cell_type": "code",
   "execution_count": 167,
   "metadata": {},
   "outputs": [
    {
     "ename": "\u001b[0;31mlength\u001b[0m",
     "evalue": "\u001b[0;31mlength\u001b[0m",
     "output_type": "error",
     "traceback": [
      "\u001b[0;31mevaluation error:\n\u001b[0m",
      "\u001b[0;31mlength\u001b[0m",
      "\u001b[0;31m\u001b[0m",
      "\u001b[0;31m  [1]  (.q.each)\n\n\u001b[0m",
      "\u001b[0;31m  [0]  ({[s;o;r] startsWith[r 0] o _ s}[0001110b] each til 3) each (01b;11b)\n                                                              ^\n\u001b[0m"
     ]
    }
   ],
   "source": [
    "({[s;o;r] startsWith[r 0] o _ s}[0001110b] each til 3) each (01b;11b)"
   ]
  },
  {
   "cell_type": "code",
   "execution_count": 167,
   "metadata": {},
   "outputs": [
    {
     "data": {
      "text/plain": [
       "000b\n"
      ]
     },
     "execution_count": 167,
     "metadata": {},
     "output_type": "execute_result"
    }
   ],
   "source": [
    "3#5 _ 01b"
   ]
  },
  {
   "cell_type": "code",
   "execution_count": 148,
   "metadata": {},
   "outputs": [
    {
     "ename": "\u001b[0;31mparse error\u001b[0m",
     "evalue": "\u001b[0;31m(\u001b[0m",
     "output_type": "error",
     "traceback": [
      "\u001b[0;31mparse error\u001b[0m",
      "\u001b[0;31m(\u001b[0m"
     ]
    }
   ],
   "source": [
    "(({x,y,z} each \"abc\") each \"12345\" cross `hw"
   ]
  },
  {
   "cell_type": "code",
   "execution_count": 2,
   "metadata": {},
   "outputs": [
    {
     "data": {
      "text/plain": [
       "\"01234\"\n",
       "\"12345\"\n",
       "\"23456\"\n",
       "\"34567\"\n",
       "\"45678\"\n",
       "\"56789\"\n",
       "\"67896\"\n",
       "\"78978\"\n",
       "\"89898\"\n",
       "\"99999\"\n"
      ]
     },
     "execution_count": 2,
     "metadata": {},
     "output_type": "execute_result"
    },
    {
     "data": {
      "text/plain": [
       "\"0123\"\n",
       "\"1234\"\n",
       "\"2345\"\n",
       "\"3456\"\n",
       "\"4567\"\n",
       "\"5678\"\n",
       "\"6789\"\n"
      ]
     },
     "execution_count": 2,
     "metadata": {},
     "output_type": "execute_result"
    }
   ],
   "source": [
    "v:\"\" sv string each til 10\n",
    "{5#x _ v} each til 10\n",
    "swin:{[w;s] { 1_x,y }\\[\" \",w#s;w _ s]}\n",
    "swin[3;v]"
   ]
  },
  {
   "cell_type": "code",
   "execution_count": 102,
   "metadata": {},
   "outputs": [
    {
     "data": {
      "text/plain": [
       "110b\n"
      ]
     },
     "execution_count": 102,
     "metadata": {},
     "output_type": "execute_result"
    }
   ],
   "source": [
    "any (110b;010b;0b)"
   ]
  },
  {
   "cell_type": "code",
   "execution_count": 43,
   "metadata": {},
   "outputs": [
    {
     "data": {
      "text/plain": [
       "\"abc\"\n",
       "\"bcd\"\n",
       "\"cde\"\n",
       "\"def\"\n",
       "\"efg\"\n"
      ]
     },
     "execution_count": 43,
     "metadata": {},
     "output_type": "execute_result"
    }
   ],
   "source": [
    "swm:{(til x)+/:til y}\n",
    "sw:{y swm[x] 1+count[y]-x}\n",
    "sw[3] \"abcdefg\""
   ]
  }
 ],
 "metadata": {
  "kernelspec": {
   "display_name": "Q (kdb+)",
   "language": "q",
   "name": "qpk"
  },
  "language_info": {
   "file_extension": ".q",
   "mimetype": "text/x-q",
   "name": "q",
   "version": "3.6.0"
  }
 },
 "nbformat": 4,
 "nbformat_minor": 2
}
