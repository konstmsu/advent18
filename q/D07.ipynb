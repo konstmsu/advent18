{
 "cells": [
  {
   "cell_type": "code",
   "execution_count": 70,
   "metadata": {},
   "outputs": [
    {
     "name": "stdout",
     "output_type": "stream",
     "text": [
      "\"NYWOHPSLRMCDUQJTAEZIGX\"!(\"FG\";,\"V\";\"PRLZSDUMXHTO\";,\"K\";\"EIOA\";\"AMCUSZEI\";\"YX..\n",
      "\"NYWOHPSLRMCDUQJTAEZIGX\"!(,\"G\";,\"V\";\"PRLZSDUMXHTO\";,\"K\";\"EIOA\";\"AMCUSZEI\";\"YX..\n",
      "\"NYWOHPSLRMCDUQJTAEZIGX\"!(,\"G\";,\"V\";\"PRLZSDUMXHTO\";\"\";\"EIOA\";\"AMCUSZEI\";\"YXJA..\n",
      "\"NYWHPSLRMCDUQJTAZIX\"!(,\"G\";,\"V\";\"PRLZSDUMXHTO\";\"IOA\";\"AMCUSZI\";\"YXJACLHG\";\"T..\n",
      "\"NYWHPSLRMCDUQJTAZIX\"!(\"\";,\"V\";\"PRLZSDUMXHTO\";\"IOA\";\"AMCUSZI\";\"YXJACLH\";\"TMA\"..\n",
      "\"YWHPSLRMCDUQJTAZIX\"!(,\"V\";\"PRLZSDUMXHTO\";\"IOA\";\"AMCUSZI\";\"YXJACLH\";\"TMA\";\"OZ..\n",
      "\"YWHPSLRMCDUQJTAZIX\"!(,\"V\";\"PRLZSDUMXHT\";\"IA\";\"AMCUSZI\";\"YXJACLH\";\"TMA\";\"ZXTY..\n",
      "\"YWHPSLRMCDUQJTAZIX\"!(\"\";\"PRLZSDUMXHT\";\"IA\";\"AMCUSZI\";\"YXJACLH\";\"TMA\";\"ZXTY\";..\n",
      "\"WHPSLRMCDUQJZIX\"!(\"PRLZSDUMXHT\";,\"I\";\"MCUSZI\";\"YXJCLH\";\"TM\";\"ZXTY\";\"XR\";,\"M\"..\n",
      "\"WHPSLRMCDUQJZIX\"!(\"PRLZSDUMXH\";,\"I\";\"MCUSZI\";\"YXJCLH\";,\"M\";\"ZXY\";\"XR\";,\"M\";\"..\n",
      "\"WHPSLRMCDUQJZX\"!(\"PRLZSDUMXH\";\"\";\"MCUSZ\";\"YXJCLH\";,\"M\";\"ZXY\";\"XR\";,\"M\";\"RHJC..\n",
      "\"WPSLRMCDUQJZ\"!(\"PRLZSDUMX\";\"MCUSZ\";\"YXJCL\";,\"M\";\"ZXY\";\"XR\";,\"M\";\"RJCY\";\"CDSY..\n",
      "\"WPSLRMCDUQJZ\"!(\"PRLZSDUM\";\"MCUSZ\";\"YJCL\";,\"M\";\"ZY\";,\"R\";,\"M\";\"RJCY\";\"CDSYLMJ..\n",
      "\"WPSLRMCDUQJ\"!(\"PRLZSDUM\";\"MCUSZ\";\"JCL\";,\"M\";,\"Z\";,\"R\";,\"M\";\"RJC\";\"CDSLMJ\";\"L..\n",
      "\"WPSLRMCDUQJ\"!(\"PRLSDUM\";\"MCUS\";\"JCL\";,\"M\";\"\";,\"R\";,\"M\";\"RJC\";\"CDSLMJ\";\"LUPWC..\n",
      "\"WPSLMCDUQJ\"!(\"PLSDUM\";\"MCUS\";\"JCL\";,\"M\";\"\";,\"M\";\"JC\";\"CDSLMJ\";\"LUPWCD\";,\"M\")\n",
      "\"WPSLCDUQJ\"!(\"PLSDU\";\"CUS\";\"JCL\";\"\";\"\";\"JC\";\"CDSLJ\";\"LUPWCD\";\"\")\n",
      "\"WPSDUQ\"!(\"PLSDU\";\"US\";\"JL\";,\"J\";\"DSLJ\";\"LUPWD\")\n",
      "\"WPSDUQ\"!(\"PLSDU\";\"US\";,\"L\";\"\";\"DSL\";\"LUPWD\")\n",
      "\"WPSUQ\"!(\"PLSU\";\"US\";,\"L\";\"SL\";\"LUPW\")\n",
      "\"WPSUQ\"!(\"PSU\";\"US\";\"\";,\"S\";\"UPW\")\n",
      "\"WPUQ\"!(\"PU\";,\"U\";\"\";\"UPW\")\n",
      "\"WPQ\"!(,\"P\";\"\";\"PW\")\n",
      "\"WQ\"!(\"\";,\"W\")\n",
      "(,\"Q\")!,\"\"\n",
      "(\"\")!()\n"
     ]
    },
    {
     "data": {
      "text/plain": [
       "11111111111111111111111111b\n"
      ]
     },
     "execution_count": 70,
     "metadata": {},
     "output_type": "execute_result"
    }
   ],
   "source": [
    "i:read0 `:../_input/d07.txt\n",
    "prerequisites:i[;5] group i[;36]\n",
    "\n",
    "advance:{\n",
    "    x;\n",
    "    n:first (asc distinct raze value x`p) except key x`p;\n",
    "    0N!r:except[;n] each x`p;\n",
    "    `r`p!(x[`r],n;(where 0=count each r) cut r)}\n",
    "\n",
    "r:advance/[`r`p!(\"\";prerequisites)] `r\n",
    "\"BFKEGNOVATIHXYZRMCJDLSUPWQ\"=r,\"Q\"\n",
    "\n"
   ]
  },
  {
   "cell_type": "code",
   "execution_count": 23,
   "metadata": {},
   "outputs": [
    {
     "data": {
      "text/plain": [
       "a| 1\n",
       "b| 2\n"
      ]
     },
     "execution_count": 24,
     "metadata": {},
     "output_type": "execute_result"
    },
    {
     "ename": "\u001b[0;31mtype\u001b[0m",
     "evalue": "\u001b[0;31mtype\u001b[0m",
     "output_type": "error",
     "traceback": [
      "\u001b[0;31mevaluation error:\n\u001b[0m",
      "\u001b[0;31mtype\u001b[0m",
      "\u001b[0;31m\u001b[0m",
      "\u001b[0;31m  [0]  (asc key v)?v\n                  ^\n\u001b[0m"
     ]
    }
   ],
   "source": [
    "![;value v] asc key v:`b`a!1 2\n"
   ]
  },
  {
   "cell_type": "code",
   "execution_count": null,
   "metadata": {},
   "outputs": [],
   "source": [
    "\n"
   ]
  }
 ],
 "metadata": {
  "kernelspec": {
   "display_name": "Q (kdb+)",
   "language": "q",
   "name": "qpk"
  },
  "language_info": {
   "file_extension": ".q",
   "mimetype": "text/x-q",
   "name": "q",
   "version": "3.6.0"
  }
 },
 "nbformat": 4,
 "nbformat_minor": 2
}
