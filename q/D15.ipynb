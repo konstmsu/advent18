{
 "cells": [
  {
   "cell_type": "code",
   "execution_count": null,
   "metadata": {
    "scrolled": false
   },
   "outputs": [],
   "source": [
    "field:(\n",
    " \"#######\";\n",
    " \"#E..G.#\";\n",
    " \"#...#.#\";\n",
    " \"#.G.#G#\";\n",
    " \"#######\")\n",
    "\n",
    "enemy:\"GE\"!\"EG\"\n",
    "adjacent:(-1 0;0 1;1 0;0 -1)\n",
    "unit_positions:raze {(til count x) ,/:' x} where each field in \"GE\"\n",
    "current_unit:0\n",
    "targets:where (enemy field . unit_positions current_unit)=field ./: unit_positions\n",
    "in_range:{x where not \"#\"=y ./: x}[;field] raze adjacent+/:\\:unit_positions targets\n",
    "/in_range:maybe_in_range where not \"#\"=field ./: maybe_in_range\n",
    "/{.[x;y;:;\"?\"]}/[field;in_range]\n",
    "bfs:{\n",
    "    l:last x;\n",
    "    0N!x;\n",
    "    $[10<count l;:42;()];\n",
    "    a:adjacent+/:\\:last x;\n",
    "    valid:enlist (3 4); /a; / where not (field ./: a) in \"#GE\";\n",
    "    x,enlist valid except 0N!raze x}/[enlist enlist unit_positions current_unit]\n",
    "bfs"
   ]
  },
  {
   "cell_type": "code",
   "execution_count": 20,
   "metadata": {},
   "outputs": [
    {
     "name": "stdout",
     "output_type": "stream",
     "text": [
      "\"g\"\n",
      "\"c\"\n",
      "\"ab12\"\n",
      "\"h\"\n",
      "\"d\"\n",
      "\"ab12cg\"\n",
      "\"d\"\n",
      "\"e\"\n",
      "\"ab12cgdh\"\n"
     ]
    },
    {
     "data": {
      "text/plain": [
       "\"ab12cgdhed\"\n"
      ]
     },
     "execution_count": 20,
     "metadata": {},
     "output_type": "execute_result"
    }
   ],
   "source": [
    "{(0N!x),(0N!y),(0N!z)}/[\"ab12\";\"cde\";\"ghd\"]"
   ]
  },
  {
   "cell_type": "code",
   "execution_count": 14,
   "metadata": {},
   "outputs": [
    {
     "data": {
      "text/plain": [
       "0 131280\n"
      ]
     },
     "execution_count": 14,
     "metadata": {},
     "output_type": "execute_result"
    }
   ],
   "source": [
    "v:10000\n",
    "\\ts til v"
   ]
  },
  {
   "cell_type": "code",
   "execution_count": 18,
   "metadata": {},
   "outputs": [
    {
     "data": {
      "text/plain": [
       "33 393936\n"
      ]
     },
     "execution_count": 18,
     "metadata": {},
     "output_type": "execute_result"
    }
   ],
   "source": [
    "\\ts {x,y}/[til 10000]"
   ]
  },
  {
   "cell_type": "code",
   "execution_count": 41,
   "metadata": {},
   "outputs": [
    {
     "ename": "\u001b[0;31mtype\u001b[0m",
     "evalue": "\u001b[0;31mtype\u001b[0m",
     "output_type": "error",
     "traceback": [
      "\u001b[0;31mevaluation error:\n\u001b[0m",
      "\u001b[0;31mtype\u001b[0m",
      "\u001b[0;31m\u001b[0m",
      "\u001b[0;31m  [0]  {0N!x+0N!y}./[enlist 1;enlist 1]\n                   ^\n\u001b[0m"
     ]
    }
   ],
   "source": [
    "{0N!x+0N!y}./[enlist 1;enlist 1]"
   ]
  }
 ],
 "metadata": {
  "kernelspec": {
   "display_name": "Q (kdb+)",
   "language": "q",
   "name": "qpk"
  },
  "language_info": {
   "file_extension": ".q",
   "mimetype": "text/x-q",
   "name": "q",
   "version": "3.6.0"
  }
 },
 "nbformat": 4,
 "nbformat_minor": 2
}
