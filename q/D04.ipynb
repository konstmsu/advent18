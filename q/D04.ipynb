{
 "cells": [
  {
   "cell_type": "code",
   "execution_count": 233,
   "metadata": {},
   "outputs": [
    {
     "data": {
      "text/plain": [
       "109659\n"
      ]
     },
     "execution_count": 233,
     "metadata": {},
     "output_type": "execute_result"
    },
    {
     "data": {
      "text/plain": [
       "39| 14\n",
       "40| 14\n",
       "38| 13\n",
       "41| 13\n",
       "42| 12\n",
       "43| 12\n",
       "44| 12\n",
       "35| 11\n",
       "36| 11\n",
       "37| 11\n",
       "45| 11\n",
       "46| 11\n",
       "47| 11\n",
       "34| 10\n",
       "24| 9\n",
       "33| 9\n",
       "48| 9\n",
       "25| 8\n",
       "26| 8\n",
       "18| 7\n",
       "20| 7\n",
       "21| 7\n",
       "..\n"
      ]
     },
     "execution_count": 233,
     "metadata": {},
     "output_type": "execute_result"
    }
   ],
   "source": [
    "ll:asc read0 `:../_input/d04.txt\n",
    "hashPos:25\n",
    "shifts:(where \"#\"=ll[;hashPos]) _ ll\n",
    "getTs: {\"I\"$x[15 16]}\n",
    "getId: {\n",
    "    idWidth:first where \" \"=hashPos _ x;\n",
    "    \"I\"$x hashPos+1+til idWidth-1}\n",
    "\n",
    "sleeps:ungroup {`id`f`w!(getId x 0),2 0N#getTs each 1 _ x} each shifts\n",
    "\n",
    "/ strategy 1\n",
    "popularMinutes: select topMinute:desc count each group raze f+til each w-f by id from sleeps\n",
    "maxTotalSleep: first () xkey desc select sum w-f by id from sleeps\n",
    "maxTotalSleep[`id]*first key desc popularMinutes[maxTotalSleep`id]`topMinute\n",
    "popularMinutes[349;`topMinute]\n"
   ]
  }
 ],
 "metadata": {
  "kernelspec": {
   "display_name": "Q (kdb+)",
   "language": "q",
   "name": "qpk"
  },
  "language_info": {
   "file_extension": ".q",
   "mimetype": "text/x-q",
   "name": "q",
   "version": "3.6.0"
  }
 },
 "nbformat": 4,
 "nbformat_minor": 2
}
