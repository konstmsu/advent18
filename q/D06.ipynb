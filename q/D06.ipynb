{
 "cells": [
  {
   "cell_type": "markdown",
   "metadata": {},
   "source": [
    "each initial point starts a wave\n",
    "field filled with -1\n",
    "each generation:\n",
    " - expand each point of each wave in 4 directions\n",
    " - record out-of-border waves\n",
    " - drop out-of-border points\n",
    " - drop already considered points\n",
    " - mark collissions as middle ground (count point)\n",
    " - mark everything else as that wave\n",
    " - finish when waves are empty (?)"
   ]
  },
  {
   "cell_type": "code",
   "execution_count": 62,
   "metadata": {},
   "outputs": [
    {
     "data": {
      "text/plain": [
       "(2 1;1 2)\n",
       "(2 6;1 5;1 7)\n",
       "(7 3;8 2;8 4)\n",
       "(2 4;4 4;3 3;3 5)\n",
       "(4 5;6 5;5 4;5 6)\n",
       "(7 9;8 8)\n"
      ]
     },
     "execution_count": 62,
     "metadata": {},
     "output_type": "execute_result"
    },
    {
     "data": {
      "text/plain": [
       "-1 -1 -1 -1 -1 -1 -1 -1 -1\n",
       "-1 -1 -1 -1 -1 -1 -1 -1 -1\n",
       "-1 -1 -1 -1 -1 -1 -1 -1 -1\n",
       "-1 -1 -1 -1 -1 -1 -1 -1 -1\n",
       "-1 -1 -1 -1 -1 -1 -1 -1 -1\n",
       "-1 -1 -1 -1 -1 -1 -1 -1 -1\n",
       "-1 -1 -1 -1 -1 -1 -1 -1 -1\n",
       "-1 -1 -1 -1 -1 -1 -1 -1 -1\n"
      ]
     },
     "execution_count": 62,
     "metadata": {},
     "output_type": "execute_result"
    }
   ],
   "source": [
    "/i:read0 `:../_input/d06.txt\n",
    "/p:\"I\"$\", \" vs/: i\n",
    "\n",
    "p:(1 1;1 6;8 3;3 4;5 5;8 9)\n",
    "\n",
    "infinites:count[p]#0b\n",
    "pMin:min p\n",
    "pMax:max p\n",
    "\n",
    "field:pMax#-1\n",
    "expanded:(-1 0;1 0;0 -1;0 1)+\\:/:p\n",
    "inBoundaries:{a:pMin<=/:/:x; b:x<=\\:\\:pMax; 11b~/:/:a&b}\n",
    "infinites|:any each not ib:inBoundaries expanded\n",
    "news:expanded @' where each ib\n",
    "news\n",
    "middle:where 1<count each group raze news\n",
    "field[middle]:count p\n",
    "{x}/til count news\n",
    "{[f;i;c]f[c]:i}[field]/[news;til count news]\n",
    "field {}[]\n",
    "\n",
    "/ {x+/:{x cross x}1 -1} 3#p"
   ]
  },
  {
   "cell_type": "code",
   "execution_count": null,
   "metadata": {},
   "outputs": [],
   "source": []
  },
  {
   "cell_type": "code",
   "execution_count": null,
   "metadata": {},
   "outputs": [],
   "source": [
    "\n"
   ]
  },
  {
   "cell_type": "code",
   "execution_count": null,
   "metadata": {},
   "outputs": [],
   "source": []
  },
  {
   "cell_type": "code",
   "execution_count": null,
   "metadata": {},
   "outputs": [],
   "source": [
    "-1 1+"
   ]
  }
 ],
 "metadata": {
  "kernelspec": {
   "display_name": "Q (kdb+)",
   "language": "q",
   "name": "qpk"
  },
  "language_info": {
   "file_extension": ".q",
   "mimetype": "text/x-q",
   "name": "q",
   "version": "3.6.0"
  }
 },
 "nbformat": 4,
 "nbformat_minor": 2
}
