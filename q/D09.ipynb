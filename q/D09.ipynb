{
 "cells": [
  {
   "cell_type": "code",
   "execution_count": 11,
   "metadata": {},
   "outputs": [
    {
     "name": "stdout",
     "output_type": "stream",
     "text": [
      "23\n"
     ]
    },
    {
     "data": {
      "text/plain": [
       "0b\n"
      ]
     },
     "execution_count": 11,
     "metadata": {},
     "output_type": "execute_result"
    }
   ],
   "source": [
    "solve:{[elfCount;lastMarble]\n",
    "    capacity:lastMarble+1;\n",
    "    isUsed:capacity#0b;\n",
    "    current:0;\n",
    "    isUsed[0]:1b;\n",
    "    i:0;\n",
    "    while[i<lastMarble;\n",
    "        i+:1;\n",
    "        $[\n",
    "            0=i mod 23;\n",
    "            [\n",
    "                show i\n",
    "            ];[\n",
    "\n",
    "            ]\n",
    "        ]\n",
    "    ];\n",
    "    42}\n",
    "32=solve[9;25]"
   ]
  },
  {
   "cell_type": "code",
   "execution_count": 5,
   "metadata": {},
   "outputs": [
    {
     "data": {
      "text/plain": [
       "3 4 0 1 2 3 4 0 1 2 3 4\n"
      ]
     },
     "execution_count": 5,
     "metadata": {},
     "output_type": "execute_result"
    }
   ],
   "source": [
    "-12#til 5"
   ]
  },
  {
   "cell_type": "code",
   "execution_count": 43,
   "metadata": {},
   "outputs": [
    {
     "data": {
      "text/plain": [
       "1680 1312576\n"
      ]
     },
     "execution_count": 43,
     "metadata": {},
     "output_type": "execute_result"
    }
   ],
   "source": [
    "v:((0#0)!0#0)\n",
    "i:0\n",
    "\\ts while[i<40000;\n",
    "    i+:1;\n",
    "    v[i]:i;\n",
    "    v:$[0=i mod 3; (enlist i-1) _ v; v]\n",
    "    ]"
   ]
  }
 ],
 "metadata": {
  "kernelspec": {
   "display_name": "Q (kdb+)",
   "language": "q",
   "name": "qpk"
  },
  "language_info": {
   "file_extension": ".q",
   "mimetype": "text/x-q",
   "name": "q",
   "version": "3.6.0"
  }
 },
 "nbformat": 4,
 "nbformat_minor": 2
}
