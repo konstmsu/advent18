{
 "cells": [
  {
   "cell_type": "code",
   "execution_count": 152,
   "metadata": {},
   "outputs": [
    {
     "data": {
      "text/plain": [
       "114946i\n"
      ]
     },
     "execution_count": 152,
     "metadata": {},
     "output_type": "execute_result"
    },
    {
     "data": {
      "text/plain": [
       ",877i\n"
      ]
     },
     "execution_count": 152,
     "metadata": {},
     "output_type": "execute_result"
    }
   ],
   "source": [
    "ll:read0 `:../_input/d03.txt\n",
    "\n",
    "/ parsing\n",
    "k:ll?\\:\"@,:x\"\n",
    "starts: 1 ,' k +\\: 2 1 2 1\n",
    "ends: (k +\\: -2 -1 -1 -1),' (count each ll)-1\n",
    "claims:\"I\"$ll each' {x+til 1+y-x} .'' (starts ,'' ends)\n",
    "\n",
    "/ depths\n",
    "get_points: {[claim] (claim[1]+til claim[3]) cross claim[2]+til claim[4]}\n",
    "increment_depth: {[depth;claim] ./[depth; ; +; 1] get_points claim}\n",
    "sum raze 1<(1000 1000#0) increment_depth/ claims\n",
    "\n",
    "/ intact\n",
    "vvv:select id, cnt:count id by pp from ungroup select from ([]id:claims[;0]; pp: get_points each claims)\n",
    "claims[;0] except distinct exec raze id from vvv where 1<cnt"
   ]
  }
 ],
 "metadata": {
  "kernelspec": {
   "display_name": "Q (kdb+)",
   "language": "q",
   "name": "qpk"
  },
  "language_info": {
   "file_extension": ".q",
   "mimetype": "text/x-q",
   "name": "q",
   "version": "3.6.0"
  }
 },
 "nbformat": 4,
 "nbformat_minor": 2
}
